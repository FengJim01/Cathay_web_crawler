{
 "cells": [
  {
   "cell_type": "code",
   "execution_count": 1,
   "id": "e2bd4e20-b8af-47a8-9a10-29ff99eeab8b",
   "metadata": {},
   "outputs": [],
   "source": [
    "from pyspark.sql import SparkSession\n",
    "from pyspark.sql.functions import lit\n",
    "\n",
    "def concatenation(csv,city):\n",
    "    spark = SparkSession.builder.getOrCreate()\n",
    "\n",
    "    dataframe = spark.read\\\n",
    "        .option('header',True)\\\n",
    "        .option('escape','\"')\\\n",
    "        .option('inferSchema', True)\\\n",
    "        .csv(\"./data/{}\".format(csv))\n",
    "    \n",
    "    dataframe = dataframe.filter(dataframe.備註 != 'the note').withColumn('city',lit(city))\n",
    "    \n",
    "    return dataframe\n",
    "    #dataframe.printSchema()"
   ]
  },
  {
   "cell_type": "code",
   "execution_count": 2,
   "id": "823d4f81-9c97-4738-a4fb-4a15351a473f",
   "metadata": {},
   "outputs": [],
   "source": [
    "Taipei_df = concatenation('A_lvr_land_A.csv','台北市')\n",
    "Taichung_df = concatenation('B_lvr_land_A.csv','台中市')\n",
    "Kaohsiung_df = concatenation('E_lvr_land_A.csv','高雄市')\n",
    "NewTaipei_df = concatenation('F_lvr_land_A.csv','新北市')\n",
    "Taoyuan_df = concatenation('H_lvr_land_A.csv','桃園市')"
   ]
  },
  {
   "cell_type": "code",
   "execution_count": 3,
   "id": "fd7ed8ac-7b13-487d-8bcf-d08247cb33ba",
   "metadata": {},
   "outputs": [
    {
     "name": "stdout",
     "output_type": "stream",
     "text": [
      "root\n",
      " |-- 鄉鎮市區: string (nullable = true)\n",
      " |-- 交易標的: string (nullable = true)\n",
      " |-- 土地位置建物門牌: string (nullable = true)\n",
      " |-- 土地移轉總面積平方公尺: string (nullable = true)\n",
      " |-- 都市土地使用分區: string (nullable = true)\n",
      " |-- 非都市土地使用分區: string (nullable = true)\n",
      " |-- 非都市土地使用編定: string (nullable = true)\n",
      " |-- 交易年月日: string (nullable = true)\n",
      " |-- 交易筆棟數: string (nullable = true)\n",
      " |-- 移轉層次: string (nullable = true)\n",
      " |-- 總樓層數: string (nullable = true)\n",
      " |-- 建物型態: string (nullable = true)\n",
      " |-- 主要用途: string (nullable = true)\n",
      " |-- 主要建材: string (nullable = true)\n",
      " |-- 建築完成年月: string (nullable = true)\n",
      " |-- 建物移轉總面積平方公尺: string (nullable = true)\n",
      " |-- 建物現況格局-房: string (nullable = true)\n",
      " |-- 建物現況格局-廳: string (nullable = true)\n",
      " |-- 建物現況格局-衛: string (nullable = true)\n",
      " |-- 建物現況格局-隔間: string (nullable = true)\n",
      " |-- 有無管理組織: string (nullable = true)\n",
      " |-- 總價元: string (nullable = true)\n",
      " |-- 單價元平方公尺: string (nullable = true)\n",
      " |-- 車位類別: string (nullable = true)\n",
      " |-- 車位移轉總面積(平方公尺): string (nullable = true)\n",
      " |-- 車位總價元: string (nullable = true)\n",
      " |-- 備註: string (nullable = true)\n",
      " |-- 編號: string (nullable = true)\n",
      " |-- 主建物面積: double (nullable = true)\n",
      " |-- 附屬建物面積: double (nullable = true)\n",
      " |-- 陽台面積: double (nullable = true)\n",
      " |-- 電梯: string (nullable = true)\n",
      " |-- 移轉編號: string (nullable = true)\n",
      " |-- city: string (nullable = false)\n",
      "\n"
     ]
    }
   ],
   "source": [
    "Taipei_df.printSchema()"
   ]
  },
  {
   "cell_type": "code",
   "execution_count": 4,
   "id": "75d364ec-cf30-4f42-9567-504405cef962",
   "metadata": {},
   "outputs": [
    {
     "name": "stdout",
     "output_type": "stream",
     "text": [
      "+--------+--------------------+------+\n",
      "|鄉鎮市區|            交易標的|  city|\n",
      "+--------+--------------------+------+\n",
      "|  文山區|房地(土地+建物)+車位|台北市|\n",
      "|  文山區|     房地(土地+建物)|台北市|\n",
      "|  文山區|     房地(土地+建物)|台北市|\n",
      "|  中正區|     房地(土地+建物)|台北市|\n",
      "|  文山區|                車位|台北市|\n",
      "|  文山區|     房地(土地+建物)|台北市|\n",
      "|  萬華區|     房地(土地+建物)|台北市|\n",
      "|  萬華區|房地(土地+建物)+車位|台北市|\n",
      "|  內湖區|房地(土地+建物)+車位|台北市|\n",
      "|  內湖區|     房地(土地+建物)|台北市|\n",
      "+--------+--------------------+------+\n",
      "\n"
     ]
    }
   ],
   "source": [
    "Taipei_df.select(['鄉鎮市區','交易標的','city']).limit(10).show()"
   ]
  },
  {
   "cell_type": "code",
   "execution_count": 5,
   "id": "ea85cee6-60e6-4249-98ae-fae30bfb0426",
   "metadata": {},
   "outputs": [],
   "source": [
    "from functools import reduce\n",
    "from pyspark.sql import DataFrame\n",
    "\n",
    "dfs = [Taipei_df,Taichung_df,Kaohsiung_df,NewTaipei_df,Taoyuan_df]\n",
    "combine_df = reduce(DataFrame.unionAll, dfs)"
   ]
  },
  {
   "cell_type": "code",
   "execution_count": 6,
   "id": "eeae034c-77ba-42a8-9cbc-6882dd514a1a",
   "metadata": {},
   "outputs": [
    {
     "data": {
      "text/plain": [
       "[Row(鄉鎮市區='板橋區', 總價元='19000000', city='新北市'),\n",
       " Row(鄉鎮市區='板橋區', 總價元='14250000', city='新北市'),\n",
       " Row(鄉鎮市區='土城區', 總價元='82100000', city='新北市'),\n",
       " Row(鄉鎮市區='板橋區', 總價元='3505800', city='新北市'),\n",
       " Row(鄉鎮市區='板橋區', 總價元='14900000', city='新北市'),\n",
       " Row(鄉鎮市區='板橋區', 總價元='8050000', city='新北市'),\n",
       " Row(鄉鎮市區='板橋區', 總價元='11530000', city='新北市'),\n",
       " Row(鄉鎮市區='板橋區', 總價元='7450000', city='新北市'),\n",
       " Row(鄉鎮市區='板橋區', 總價元='15990000', city='新北市'),\n",
       " Row(鄉鎮市區='板橋區', 總價元='10190000', city='新北市')]"
      ]
     },
     "execution_count": 6,
     "metadata": {},
     "output_type": "execute_result"
    }
   ],
   "source": [
    "combine_df.select(['鄉鎮市區', '總價元','city']).where(combine_df.city=='新北市').limit(10).collect()"
   ]
  },
  {
   "cell_type": "markdown",
   "id": "b475064a-d672-402f-ad35-cc4feb8277eb",
   "metadata": {},
   "source": [
    "## 合併數據並篩選"
   ]
  },
  {
   "cell_type": "code",
   "execution_count": 12,
   "id": "37aba77f-a3e0-409d-84f6-74eabe8ed5a4",
   "metadata": {},
   "outputs": [
    {
     "name": "stdout",
     "output_type": "stream",
     "text": [
      "+--------+--------------------+----------------------------------------+----------------------+----------------+------------------+------------------+----------+---------------+----------+--------+--------------------------+--------+----------------+------------+----------------------+---------------+---------------+---------------+-----------------+------------+---------+--------------+--------+------------------------+----------+-------------------------------------+-------------------+----------+------------+--------+----+--------+------+\n",
      "|鄉鎮市區|            交易標的|                        土地位置建物門牌|土地移轉總面積平方公尺|都市土地使用分區|非都市土地使用分區|非都市土地使用編定|交易年月日|     交易筆棟數|  移轉層次|總樓層數|                  建物型態|主要用途|        主要建材|建築完成年月|建物移轉總面積平方公尺|建物現況格局-房|建物現況格局-廳|建物現況格局-衛|建物現況格局-隔間|有無管理組織|   總價元|單價元平方公尺|車位類別|車位移轉總面積(平方公尺)|車位總價元|                                 備註|               編號|主建物面積|附屬建物面積|陽台面積|電梯|移轉編號|  city|\n",
      "+--------+--------------------+----------------------------------------+----------------------+----------------+------------------+------------------+----------+---------------+----------+--------+--------------------------+--------+----------------+------------+----------------------+---------------+---------------+---------------+-----------------+------------+---------+--------------+--------+------------------------+----------+-------------------------------------+-------------------+----------+------------+--------+----+--------+------+\n",
      "|  文山區|房地(土地+建物)+車位|              臺北市文山區車前路17號24樓|                 19.21|              商|              null|              null|   1071219|土地1建物1車位2|  二十四層|三十三層|住宅大樓(11層含以上有電梯)|  住家用|鋼骨鋼筋混凝土造|     1040427|                272.67|              3|              2|              2|               有|          有| 53500000|        196208|坡道平面|                     0.0|         0|內含獨立產權車位，未包含在棟數內。...|RPSOMLMKKHOFFAA47CA|    143.28|        10.5|    12.1|null|    null|台北市|\n",
      "|  萬華區|房地(土地+建物)+車位|   臺北市萬華區中華路二段３６４巷２４...|                 38.33|              住|              null|              null|   1071128|土地1建物1車位1|      二層|  十四層|住宅大樓(11層含以上有電梯)|  住家用|    鋼筋混凝土造|     1010625|                177.54|              3|              2|              2|               有|          有|  8000000|         45060|坡道平面|                     0.0|         0| 親友、員工或其他特殊關係間之交易。；|RPRNMLTKLHOFFBA18CA|      95.5|         0.0|    9.88|null|    null|台北市|\n",
      "|  內湖區|     房地(土地+建物)|        臺北市內湖區內湖路二段103巷11...|                 15.09|              住|              null|              null|   1080113|土地2建物1車位0|三層，四層|  十四層|住宅大樓(11層含以上有電梯)|  住家用|    鋼筋混凝土造|     0720331|                121.27|              3|              2|              2|               有|          有| 14800000|        122042|    null|                     0.0|         0|               含增建或未登記建物。；|RPWOMLLKKHOFFCA97CA|    102.54|         0.0|    4.81|null|    null|台北市|\n",
      "|  內湖區|     房地(土地+建物)|  臺北市內湖區成功路四段１８０號二十三樓|                 19.74|            其他|              null|              null|   1071203|土地1建物1車位0|  二十三層|二十九層|住宅大樓(11層含以上有電梯)|  住家用|  見其他登記事項|     1070223|    250.16000000000003|              0|              0|              0|               無|          有| 69880000|        279341|    null|                     0.0|         0|                           1.毛胚屋。|RPUPMLQJLHOFFCA38CA|    144.96|        6.71|    18.1|null|    null|台北市|\n",
      "|  內湖區|房地(土地+建物)+車位|   臺北市內湖區成功路四段１８０號二十...|                 18.21|            其他|              null|              null|   1071203|土地1建物1車位4|  二十三層|二十九層|住宅大樓(11層含以上有電梯)|  住家用|  見其他登記事項|     1070223|    325.66999999999996|              0|              0|              0|               無|          有| 69000000|        280977|坡道平面|                   116.4|  10200000|                           1.毛胚屋。|RPVPMLQJLHOFFCA48CA|    121.63|        3.29|   17.12|null|    null|台北市|\n",
      "|  士林區|房地(土地+建物)+車位|        臺北市士林區忠誠路一段18號9樓之2|                 45.26|              住|              null|              null|   1071215|土地2建物1車位4|      九層|  十四層|住宅大樓(11層含以上有電梯)|  住家用|    鋼筋混凝土造|     0941228|                441.94|              5|              2|              3|               有|          有|125000000|        289600|坡道機械|                   44.84|  10000000|               含增建或未登記建物。；|RPXOMLLKKHOFFEA28CA|    261.61|        5.37|   22.97|null|    null|台北市|\n",
      "|  士林區|     房地(土地+建物)|        臺北市士林區基河路２２號四樓之２|                 15.72|              住|              null|              null|   1071114|土地1建物1車位0|      四層|  十八層|住宅大樓(11層含以上有電梯)|  住家用|    鋼筋混凝土造|     0971126|                 82.44|              1|              1|              1|               有|          有| 20850000|        252911|    null|                     0.0|         0|               含增建或未登記建物。；|RPXNMLOKKHOFFEA48CA|     46.83|         0.3|    6.61|null|    null|台北市|\n",
      "|  大安區|     房地(土地+建物)|      臺北市大安區和平東路三段1巷72弄...|                 19.94|              住|              null|              null|   1071227|土地1建物1車位0|      二層|  十七層|住宅大樓(11層含以上有電梯)|  住家用|    鋼筋混凝土造|     0740522|                103.16|              3|              2|              1|               有|          有| 18280000|        177200|    null|                     0.0|         0|               含增建或未登記建物。；|RPTNMLMKKHOFFFA97CA|     75.58|        1.26|    7.07|null|    null|台北市|\n",
      "|  內湖區|     房地(土地+建物)|      臺北市內湖區成功路五段４０號１１樓|                 29.04|              商|              null|              null|   1071207|土地1建物1車位0|    十一層|  十五層|住宅大樓(11層含以上有電梯)|  住家用|    鋼筋混凝土造|     0840725|                165.35|              3|              2|              1|               有|          有| 26200000|        158452|    null|                     0.0|         0|                 含增建或未登記建物。|RPQOMLMKKHOFFCA57DA|     99.87|         0.0|   11.37|null|    null|台北市|\n",
      "|  大安區|房地(土地+建物)+車位|        臺北市大安區羅斯福路三段55號18樓|                 19.34|              商|              null|              null|   1080104|土地2建物1車位2|    十八層|二十五層|住宅大樓(11層含以上有電梯)|  住家用|鋼骨鋼筋混凝土造|     1050721|                257.62|              3|              2|              2|               有|          有| 79338888|        307969|坡道平面|                   52.84|         0|             向政府機關承購之案件。；|RPRNMLTKKHOFFFA58DA|     123.4|         5.5|   13.14|null|    null|台北市|\n",
      "|  內湖區|房地(土地+建物)+車位|   臺北市內湖區成功路四段１７８號二十...|                 19.87|            其他|              null|              null|   1071211|土地1建物1車位1|  二十七層|二十九層|住宅大樓(11層含以上有電梯)|  住家用|  見其他登記事項|     1070223|                275.44|              0|              0|              0|               無|          有| 76080000|        296663|坡道平面|                    29.1|   3000000|           1.毛胚屋2.登記權利人為三人|RPRPMLTKKHOFFCA38CA|    144.78|        4.41|    18.1|null|    null|台北市|\n",
      "|  文山區|房地(土地+建物)+車位|   臺北市文山區和平東路四段６６巷４３...|                 81.96|              住|              null|              null|   1071211|土地2建物1車位2|    十二層|  十六層|住宅大樓(11層含以上有電梯)|  住家用|    鋼筋混凝土造|     0860529|                273.06|              4|              2|              3|               有|          有| 24000000|         87890|坡道平面|                   90.04|         0|      實際建物現況格局為4房2廳2.5衛。|RPQNMLRLKHOFFAA77CA|     127.2|        6.75|   15.88|null|    null|台北市|\n",
      "|  松山區|房地(土地+建物)+車位|         臺北市松山區八德路三段183號15樓|                 16.08|              商|              null|              null|   1071222|土地2建物1車位1|    十五層|  十五層|住宅大樓(11層含以上有電梯)|  住家用|鋼骨鋼筋混凝土造|     0960625|                261.26|              3|              2|              3|               有|          有| 70880000|        271301|坡道平面|                   13.86|         0|               含增建或未登記建物。；|RPVNMLOKKHOFFDA18CA|    148.63|       10.05|   10.26|null|    null|台北市|\n",
      "|  南港區|     房地(土地+建物)|        臺北市南港區東明街５５號三樓之２|                 11.41|              住|              null|              null|   1080111|土地1建物1車位0|      三層|  十三層|住宅大樓(11層含以上有電梯)|  住家用|    鋼筋混凝土造|     0971110|                 50.11|              2|              2|              1|               有|          有| 11250000|        224506|    null|                     0.0|         0|親友、員工或其他特殊關係間之交易。...|RPROMLNLKHOFFDA87CA|     31.35|        1.31|    3.94|null|    null|台北市|\n",
      "|  中山區|     房地(土地+建物)|   臺北市中山區中山北路二段５９巷４５...|                  9.83|              商|              null|              null|   1071218|土地1建物1車位0|      十層|  十六層|住宅大樓(11層含以上有電梯)|  住家用|    鋼筋混凝土造|     0880928|                 86.68|              4|              2|              2|               有|          有| 18800000|        216890|    null|                     0.0|         0|    含增建或未登記建物。權利人共2人。|RPQNMLRKKHOFFCA97DA|     58.81|         0.0|    9.31|null|    null|台北市|\n",
      "|  內湖區|房地(土地+建物)+車位|        臺北市內湖區金湖路７７號６樓之３|                 18.43|              商|              null|              null|   1080102|土地1建物1車位1|      六層|二十四層|住宅大樓(11層含以上有電梯)|  住家用|    鋼筋混凝土造|     0961030|                208.12|              4|              2|              2|               有|          有| 47580000|        257356|坡道平面|                   34.12|   2800000|                 含增建或未登記建物。|RPQQMLPKKHOFFCA08DA|    105.46|        5.88|   13.97|null|    null|台北市|\n",
      "|  南港區|房地(土地+建物)+車位|        臺北市南港區三重路41巷33號4樓之2|                 29.81|              住|              null|              null|   1071225|土地1建物1車位2|      四層|  十三層|住宅大樓(11層含以上有電梯)|  住家用|    鋼筋混凝土造|     1010119|                 277.4|              3|              2|              2|               有|          有| 37580000|        135477|坡道平面|                   71.84|         0|               含增建或未登記建物。；|RPTOMLPKKHOFFDA18CA|    115.07|       10.41|   13.31|null|    null|台北市|\n",
      "|  內湖區|房地(土地+建物)+車位|臺北市內湖區成功路四段１７８號十三樓之１|                 17.01|            其他|              null|              null|   1080127|土地1建物1車位1|    十三層|二十九層|住宅大樓(11層含以上有電梯)|  住家用|  見其他登記事項|     1070223|                239.04|              0|              0|              0|               無|          有| 55800000|        255073|坡道平面|                    29.1|   2250000|                               毛胚屋|RPWPMLQJLHOFFCA58CA|    122.03|        3.29|   17.12|null|    null|台北市|\n",
      "|  內湖區|     房地(土地+建物)|         臺北市內湖區星雲街150巷46號1...|                 21.48|              住|              null|              null|   1080106|土地1建物1車位0|      十層|  十三層|住宅大樓(11層含以上有電梯)|  住家用|    鋼筋混凝土造|     0880121|     91.92999999999999|              2|              2|              2|               有|          有| 18880000|        205374|    null|                     0.0|         0|               含增建或未登記建物。；|RPPPMLOKKHOFFCA67CA|     65.17|         0.0|     6.6|null|    null|台北市|\n",
      "|  中山區|房地(土地+建物)+車位|      臺北市中山區新生北路二段28巷1號...|                  18.1|            其他|              null|              null|   1071224|土地1建物1車位1|      五層|  十五層|住宅大樓(11層含以上有電梯)|  住家用|    鋼筋混凝土造|     0780517|                168.01|              3|              3|              2|               有|          有| 34380000|        204643|坡道平面|                     0.0|         0|               含增建或未登記建物。；|RPUOMLSKKHOFFCA48CA|    139.96|        0.45|   15.36|null|    null|台北市|\n",
      "+--------+--------------------+----------------------------------------+----------------------+----------------+------------------+------------------+----------+---------------+----------+--------+--------------------------+--------+----------------+------------+----------------------+---------------+---------------+---------------+-----------------+------------+---------+--------------+--------+------------------------+----------+-------------------------------------+-------------------+----------+------------+--------+----+--------+------+\n",
      "only showing top 20 rows\n",
      "\n"
     ]
    }
   ],
   "source": [
    "import pyspark.sql.functions as f\n",
    "\n",
    "selection = combine_df.where(combine_df.主要用途=='住家用').filter(combine_df.建物型態.contains('住宅大樓')).filter((f.length(combine_df.總樓層數)>=3)&(combine_df.總樓層數!=\"十一層\")&(combine_df.總樓層數!=\"十二層\"))\n",
    "selection.show()"
   ]
  },
  {
   "cell_type": "code",
   "execution_count": 13,
   "id": "14dd83c6-eae7-4642-b136-c8db92311e98",
   "metadata": {},
   "outputs": [],
   "source": [
    "from pyspark.sql.functions import udf\n",
    "def date_text(date):\n",
    "    str_date = str(date)\n",
    "    trans = \"{year}-{month}-{day}\".format(year=int(str_date[:3])+1911,month=str_date[3:5],day=str_date[5:7])\n",
    "    return trans\n",
    "udf_func = udf(date_text) "
   ]
  },
  {
   "cell_type": "code",
   "execution_count": 14,
   "id": "8d03ebd8-f67a-44f5-8999-e908fce6876a",
   "metadata": {},
   "outputs": [
    {
     "data": {
      "text/plain": [
       "[Row(city='台北市', time_slots=Row(date='2019-01-04', events=Row(district='大安區', building_state='住宅大樓(11層含以上有電梯)'))),\n",
       " Row(city='台北市', time_slots=Row(date='2018-12-22', events=Row(district='松山區', building_state='住宅大樓(11層含以上有電梯)'))),\n",
       " Row(city='台北市', time_slots=Row(date='2018-12-24', events=Row(district='中山區', building_state='住宅大樓(11層含以上有電梯)'))),\n",
       " Row(city='台北市', time_slots=Row(date='2019-01-27', events=Row(district='萬華區', building_state='住宅大樓(11層含以上有電梯)'))),\n",
       " Row(city='台北市', time_slots=Row(date='2019-02-17', events=Row(district='文山區', building_state='住宅大樓(11層含以上有電梯)'))),\n",
       " Row(city='台北市', time_slots=Row(date='2019-01-18', events=Row(district='萬華區', building_state='住宅大樓(11層含以上有電梯)'))),\n",
       " Row(city='台北市', time_slots=Row(date='2019-03-21', events=Row(district='中正區', building_state='住宅大樓(11層含以上有電梯)'))),\n",
       " Row(city='台北市', time_slots=Row(date='2018-06-22', events=Row(district='萬華區', building_state='住宅大樓(11層含以上有電梯)'))),\n",
       " Row(city='台北市', time_slots=Row(date='2019-02-11', events=Row(district='信義區', building_state='住宅大樓(11層含以上有電梯)'))),\n",
       " Row(city='台北市', time_slots=Row(date='2019-03-04', events=Row(district='士林區', building_state='住宅大樓(11層含以上有電梯)')))]"
      ]
     },
     "execution_count": 14,
     "metadata": {},
     "output_type": "execute_result"
    }
   ],
   "source": [
    "select_city = selection.withColumn(\"time_slots\",\n",
    "                                   f.struct(*[udf_func(selection.交易年月日).alias('date'),\n",
    "                                              f.struct(*[f.lit(selection.鄉鎮市區).alias('district'), f.lit(selection.建物型態).alias('building_state')])\n",
    "                                              .alias('events')])).select([\"city\",\"time_slots\"]).distinct()\n",
    "#select_city.printSchema()\n",
    "select_city.limit(10).collect()"
   ]
  },
  {
   "cell_type": "code",
   "execution_count": 23,
   "id": "1e57eb47-352d-4e0f-bcad-cde1c715dad7",
   "metadata": {},
   "outputs": [
    {
     "data": {
      "text/plain": [
       "[Row(date='2019-04-22', events=Row(district='萬華區', building_state='住宅大樓(11層含以上有電梯)')),\n",
       " Row(date='2019-04-22', events=Row(district='文山區', building_state='住宅大樓(11層含以上有電梯)')),\n",
       " Row(date='2019-04-22', events=Row(district='文山區', building_state='住宅大樓(11層含以上有電梯)')),\n",
       " Row(date='2019-04-22', events=Row(district='萬華區', building_state='住宅大樓(11層含以上有電梯)')),\n",
       " Row(date='2019-04-22', events=Row(district='文山區', building_state='住宅大樓(11層含以上有電梯)')),\n",
       " Row(date='2019-04-22', events=Row(district='萬華區', building_state='住宅大樓(11層含以上有電梯)')),\n",
       " Row(date='2019-04-19', events=Row(district='萬華區', building_state='住宅大樓(11層含以上有電梯)')),\n",
       " Row(date='2019-04-18', events=Row(district='南港區', building_state='住宅大樓(11層含以上有電梯)')),\n",
       " Row(date='2019-04-18', events=Row(district='萬華區', building_state='住宅大樓(11層含以上有電梯)')),\n",
       " Row(date='2019-04-16', events=Row(district='內湖區', building_state='住宅大樓(11層含以上有電梯)'))]"
      ]
     },
     "execution_count": 23,
     "metadata": {},
     "output_type": "execute_result"
    }
   ],
   "source": [
    "select_Taipei = selection\\\n",
    "    .withColumn('date',udf_func(selection.交易年月日))\\\n",
    "    .withColumn('events',f.struct(*[f.lit(selection.鄉鎮市區).alias('district'), f.lit(selection.建物型態).alias('building_state')]))\\\n",
    "    .select(['date','events'])\\\n",
    "    .sort(f.col('date').desc())\\\n",
    "    .where(selection.city==\"台北市\")\n",
    "select_Taichung = selection\\\n",
    "    .withColumn('date',udf_func(selection.交易年月日))\\\n",
    "    .withColumn('events',f.struct(*[f.lit(selection.鄉鎮市區).alias('district'), f.lit(selection.建物型態).alias('building_state')]))\\\n",
    "    .select(['date','events'])\\\n",
    "    .sort(f.col('date').desc())\\\n",
    "    .where(selection.city==\"台中市\")\n",
    "select_Kaohsiung = selection\\\n",
    "    .withColumn('date',udf_func(selection.交易年月日))\\\n",
    "    .withColumn('events',f.struct(*[f.lit(selection.鄉鎮市區).alias('district'), f.lit(selection.建物型態).alias('building_state')]))\\\n",
    "    .select(['date','events'])\\\n",
    "    .sort(f.col('date').desc())\\\n",
    "    .where(selection.city==\"高雄市\")\n",
    "select_NewTaipei = selection\\\n",
    "    .withColumn('date',udf_func(selection.交易年月日))\\\n",
    "    .withColumn('events',f.struct(*[f.lit(selection.鄉鎮市區).alias('district'), f.lit(selection.建物型態).alias('building_state')]))\\\n",
    "    .select(['date','events'])\\\n",
    "    .sort(f.col('date').desc())\\\n",
    "    .where(selection.city==\"新北市\")\n",
    "select_Taoyuan = selection\\\n",
    "    .withColumn('date',udf_func(selection.交易年月日))\\\n",
    "    .withColumn('events',f.struct(*[f.lit(selection.鄉鎮市區).alias('district'), f.lit(selection.建物型態).alias('building_state')]))\\\n",
    "    .select(['date','events'])\\\n",
    "    .sort(f.col('date').desc())\\\n",
    "    .where(selection.city==\"桃園市\")\n",
    "\n",
    "select_Taipei.limit(10).collect()"
   ]
  },
  {
   "cell_type": "code",
   "execution_count": 54,
   "id": "0f7f5398-2912-4b44-bdb9-7906bfc5ac5b",
   "metadata": {},
   "outputs": [],
   "source": [
    "df_json = select_Taipei.toJSON()\n",
    "\n",
    "with open('./test.json','w') as j:\n",
    "    rows = ''\n",
    "    for row in df_json.collect():\n",
    "        rows += row + ', '\n",
    "    rows = rows[:-2]\n",
    "    j.write('{\"city\": \"台北市\", \"time_slots\": ['+rows+']}')"
   ]
  },
  {
   "cell_type": "code",
   "execution_count": 55,
   "id": "a037b8b8-a969-4329-aef2-d8d7ad5c5cef",
   "metadata": {},
   "outputs": [],
   "source": [
    "select_Taipei_split = select_Taipei.randomSplit([0.5,0.5],seed=1)\n",
    "select_Taoyuan_split = select_Taoyuan.randomSplit([0.5,0.5],seed=1)\n",
    "select_Taichung_split = select_Taichung.randomSplit([0.5,0.5],seed=1)\n",
    "select_NewTaipei_split = select_NewTaipei.randomSplit([0.5,0.5],seed=1)\n",
    "select_Kaohsiung_split = select_Kaohsiung.randomSplit([0.5,0.5],seed=1)"
   ]
  },
  {
   "cell_type": "code",
   "execution_count": 59,
   "id": "9d25b9d0-22eb-47a7-bd56-a61eab5d6e58",
   "metadata": {},
   "outputs": [],
   "source": [
    "def write_json(version):\n",
    "    taipei = select_Taipei_split[version].toJSON()\n",
    "    taoyuan = select_Taoyuan_split[version].toJSON()\n",
    "    newtaipei = select_NewTaipei_split[version].toJSON()\n",
    "    taichung = select_Taichung_split[version].toJSON()\n",
    "    kaohsiung = select_Kaohsiung_split[version].toJSON()\n",
    "    \n",
    "    with open(\"./result-part{}.json\".format(version+1),'w') as j:\n",
    "        rows=''\n",
    "        for row in taipei.collect():\n",
    "            rows += row + ', '\n",
    "        rows = rows[:-2]\n",
    "        j.write('{\"city\": \"台北市\", \"time_slots\": ['+rows+']}\\n')\n",
    "        \n",
    "        rows=''\n",
    "        for row in taoyuan.collect():\n",
    "            rows += row + ', '\n",
    "        rows = rows[:-2]\n",
    "        j.write('{\"city\": \"桃園市\", \"time_slots\": ['+rows+']}\\n')\n",
    "        \n",
    "        rows=''\n",
    "        for row in newtaipei.collect():\n",
    "            rows += row + ', '\n",
    "        rows = rows[:-2]\n",
    "        j.write('{\"city\": \"新北市\", \"time_slots\": ['+rows+']}\\n')\n",
    "        \n",
    "        rows=''\n",
    "        for row in taichung.collect():\n",
    "            rows += row + ', '\n",
    "        rows = rows[:-2]\n",
    "        j.write('{\"city\": \"台中市\", \"time_slots\": ['+rows+']}\\n')\n",
    "        rows=''\n",
    "        for row in kaohsiung.collect():\n",
    "            rows += row + ', '\n",
    "        rows = rows[:-2]\n",
    "        j.write('{\"city\": \"高雄市\", \"time_slots\": ['+rows+']}')"
   ]
  },
  {
   "cell_type": "code",
   "execution_count": 60,
   "id": "ddc7c8b6-89e2-4212-88f4-18abf9175c6c",
   "metadata": {},
   "outputs": [],
   "source": [
    "write_json(0)\n",
    "write_json(1)"
   ]
  },
  {
   "cell_type": "code",
   "execution_count": null,
   "id": "19cd64be-db74-4199-b492-3d9da243c01f",
   "metadata": {},
   "outputs": [],
   "source": []
  }
 ],
 "metadata": {
  "kernelspec": {
   "display_name": "Python 3 (ipykernel)",
   "language": "python",
   "name": "python3"
  },
  "language_info": {
   "codemirror_mode": {
    "name": "ipython",
    "version": 3
   },
   "file_extension": ".py",
   "mimetype": "text/x-python",
   "name": "python",
   "nbconvert_exporter": "python",
   "pygments_lexer": "ipython3",
   "version": "3.10.4"
  }
 },
 "nbformat": 4,
 "nbformat_minor": 5
}
